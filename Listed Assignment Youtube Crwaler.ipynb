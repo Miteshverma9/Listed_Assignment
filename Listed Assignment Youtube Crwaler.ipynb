{
 "cells": [
  {
   "cell_type": "markdown",
   "id": "2c9a6f4e",
   "metadata": {},
   "source": [
    "TASK:-\n",
    "\n",
    "● Create a web crawler using python that is able to scrape first 10,000 results for the following\n",
    "google search input - site:youtube.com openinapp.co\n",
    "\n",
    "● Collect all the given YouTube links of the above search link.\n",
    "\n",
    "● Give the results in the JSON/CSV format.\n",
    "\n",
    "What we are looking for - Links should be of YouTube channel instead of scraping youtube video links."
   ]
  },
  {
   "cell_type": "markdown",
   "id": "92f678e0",
   "metadata": {},
   "source": [
    "**- Importing Libraries**"
   ]
  },
  {
   "cell_type": "code",
   "execution_count": 134,
   "id": "e09b41df",
   "metadata": {},
   "outputs": [],
   "source": [
    "import selenium\n",
    "from selenium import webdriver\n",
    "from selenium.webdriver.chrome.options import Options\n",
    "import pandas as pd\n",
    "from selenium.webdriver.common.by import By\n",
    "from selenium.common.exceptions import NoSuchElementException\n",
    "\n",
    "import time\n",
    "import warnings\n",
    "warnings.filterwarnings('ignore')"
   ]
  },
  {
   "cell_type": "markdown",
   "id": "14122db3",
   "metadata": {},
   "source": [
    "**-Query parameters**"
   ]
  },
  {
   "cell_type": "code",
   "execution_count": 135,
   "id": "7b8e3668",
   "metadata": {},
   "outputs": [],
   "source": [
    "query = 'site:youtube.com openinapp.co'"
   ]
  },
  {
   "cell_type": "markdown",
   "id": "f9a342ad",
   "metadata": {},
   "source": [
    "**- Scrape URL's from Google Search Results**"
   ]
  },
  {
   "cell_type": "code",
   "execution_count": 136,
   "id": "79f84df2",
   "metadata": {},
   "outputs": [],
   "source": [
    "page_url = f\"https://www.google.com/search?q=site:youtube.com%20openinapp.co&num=100000#ip=1\"\n",
    "driver = webdriver.Firefox(executable_path=\"/Users/mitssverma/FlipRobo/geckodriver\")\n",
    "driver.get(page_url)\n",
    "\n",
    "for _ in range(1000):\n",
    "    driver.execute_script(\"window.scrollBy(0,1000)\")"
   ]
  },
  {
   "cell_type": "code",
   "execution_count": 137,
   "id": "ee3ff7c0",
   "metadata": {},
   "outputs": [],
   "source": [
    "urls,linked, = [],[]"
   ]
  },
  {
   "cell_type": "code",
   "execution_count": 138,
   "id": "5930ed61",
   "metadata": {},
   "outputs": [],
   "source": [
    "for page in range(1,4):    \n",
    "    \n",
    "    for i in driver.find_elements(By.CSS_SELECTOR, 'div.g'):\n",
    "        urls.append(i)\n",
    "\n",
    "    for link in urls:\n",
    "        element = link.find_elements(By.CSS_SELECTOR,'a')\n",
    "\n",
    "        try:\n",
    "            for j in element:\n",
    "                if href and (href.startswith('https://www.youtube.com/') or href.startswith('http://www.youtube.com/')):\n",
    "                    linked.append(j.get_attribute('href'))\n",
    "        except:\n",
    "            linked.append(j.get_attribute('href'))"
   ]
  },
  {
   "cell_type": "code",
   "execution_count": 139,
   "id": "e8e492c9",
   "metadata": {},
   "outputs": [],
   "source": [
    "driver.quit()"
   ]
  },
  {
   "cell_type": "code",
   "execution_count": 140,
   "id": "3e247e2e",
   "metadata": {},
   "outputs": [
    {
     "data": {
      "text/plain": [
       "600"
      ]
     },
     "execution_count": 140,
     "metadata": {},
     "output_type": "execute_result"
    }
   ],
   "source": [
    "len(linked)"
   ]
  },
  {
   "cell_type": "markdown",
   "id": "863eaddb",
   "metadata": {},
   "source": [
    "**- Extracting YouTube Channels Name Links From A Webpage**"
   ]
  },
  {
   "cell_type": "code",
   "execution_count": 221,
   "id": "0175d509",
   "metadata": {},
   "outputs": [],
   "source": [
    "driver = webdriver.Chrome(r\"/Users/mitssverma/FlipRobo/chromedriver\")\n",
    "\n",
    "channels = []\n",
    "\n",
    "for i in linked:\n",
    "    driver.get(i)\n",
    "    time.sleep(2)\n",
    "    \n",
    "    try:\n",
    "        channel_name_element = driver.find_element(By.CSS_SELECTOR,'#text-container')\n",
    "        channel_name = channel_name_element.text\n",
    "        channels.append(channel_name)\n",
    "    \n",
    "    except NoSuchElementException:\n",
    "        channels.append(None)"
   ]
  },
  {
   "cell_type": "code",
   "execution_count": null,
   "id": "2ed84e77",
   "metadata": {},
   "outputs": [],
   "source": []
  },
  {
   "cell_type": "code",
   "execution_count": 222,
   "id": "6167373e",
   "metadata": {},
   "outputs": [
    {
     "data": {
      "text/plain": [
       "600"
      ]
     },
     "execution_count": 222,
     "metadata": {},
     "output_type": "execute_result"
    }
   ],
   "source": [
    "len(channels)"
   ]
  },
  {
   "cell_type": "markdown",
   "id": "7f4898ff",
   "metadata": {},
   "source": [
    "**- Save the results in CSV Format**"
   ]
  },
  {
   "cell_type": "code",
   "execution_count": 224,
   "id": "845d12fc",
   "metadata": {},
   "outputs": [],
   "source": [
    "youtube_channel = pd.DataFrame({'Youtube Links':linked, 'Channel Name':channels})"
   ]
  },
  {
   "cell_type": "code",
   "execution_count": 225,
   "id": "eb1eeb41",
   "metadata": {},
   "outputs": [],
   "source": [
    "youtube_channel.to_csv('Youtube_Channel_Names.csv')"
   ]
  },
  {
   "cell_type": "code",
   "execution_count": 229,
   "id": "6141bfb8",
   "metadata": {},
   "outputs": [
    {
     "data": {
      "text/html": [
       "<div>\n",
       "<style scoped>\n",
       "    .dataframe tbody tr th:only-of-type {\n",
       "        vertical-align: middle;\n",
       "    }\n",
       "\n",
       "    .dataframe tbody tr th {\n",
       "        vertical-align: top;\n",
       "    }\n",
       "\n",
       "    .dataframe thead th {\n",
       "        text-align: right;\n",
       "    }\n",
       "</style>\n",
       "<table border=\"1\" class=\"dataframe\">\n",
       "  <thead>\n",
       "    <tr style=\"text-align: right;\">\n",
       "      <th></th>\n",
       "      <th>Unnamed: 0</th>\n",
       "      <th>Youtube Links</th>\n",
       "      <th>Channel Name</th>\n",
       "    </tr>\n",
       "  </thead>\n",
       "  <tbody>\n",
       "    <tr>\n",
       "      <th>0</th>\n",
       "      <td>0</td>\n",
       "      <td>https://www.youtube.com/c/OpeninApp</td>\n",
       "      <td>OpeninApp</td>\n",
       "    </tr>\n",
       "    <tr>\n",
       "      <th>1</th>\n",
       "      <td>1</td>\n",
       "      <td>https://www.youtube.com/channel/UCIGDcUqL2kKMd...</td>\n",
       "      <td>OpeninApp</td>\n",
       "    </tr>\n",
       "    <tr>\n",
       "      <th>2</th>\n",
       "      <td>2</td>\n",
       "      <td>https://www.youtube.com/hashtag/openinapp</td>\n",
       "      <td>Inspiring Prashant</td>\n",
       "    </tr>\n",
       "    <tr>\n",
       "      <th>3</th>\n",
       "      <td>3</td>\n",
       "      <td>https://www.youtube.com/watch?v=vOo-VyPIiW0</td>\n",
       "      <td>spksunny</td>\n",
       "    </tr>\n",
       "    <tr>\n",
       "      <th>4</th>\n",
       "      <td>4</td>\n",
       "      <td>https://www.youtube.com/watch?v=O6lup3SN4Bw</td>\n",
       "      <td>OpeninApp</td>\n",
       "    </tr>\n",
       "    <tr>\n",
       "      <th>...</th>\n",
       "      <td>...</td>\n",
       "      <td>...</td>\n",
       "      <td>...</td>\n",
       "    </tr>\n",
       "    <tr>\n",
       "      <th>595</th>\n",
       "      <td>595</td>\n",
       "      <td>https://www.youtube.com/post/UgxxZbA3FKGy6JQbC...</td>\n",
       "      <td>Makholi Bande</td>\n",
       "    </tr>\n",
       "    <tr>\n",
       "      <th>596</th>\n",
       "      <td>596</td>\n",
       "      <td>https://www.youtube.com/watch?v=p-qw-sAMixc</td>\n",
       "      <td>Money Purse { మనీ పర్స్ }</td>\n",
       "    </tr>\n",
       "    <tr>\n",
       "      <th>597</th>\n",
       "      <td>597</td>\n",
       "      <td>https://www.youtube.com/post/UgkxLi6V7PM1vtjem...</td>\n",
       "      <td>NaN</td>\n",
       "    </tr>\n",
       "    <tr>\n",
       "      <th>598</th>\n",
       "      <td>598</td>\n",
       "      <td>https://www.youtube.com/watch?v=RsqG2wV2A8k</td>\n",
       "      <td>Money Purse { మనీ పర్స్ }</td>\n",
       "    </tr>\n",
       "    <tr>\n",
       "      <th>599</th>\n",
       "      <td>599</td>\n",
       "      <td>https://www.youtube.com/watch?v=Tlxwez5iVrc</td>\n",
       "      <td>SimpleGhar Hindi</td>\n",
       "    </tr>\n",
       "  </tbody>\n",
       "</table>\n",
       "<p>600 rows × 3 columns</p>\n",
       "</div>"
      ],
      "text/plain": [
       "     Unnamed: 0                                      Youtube Links  \\\n",
       "0             0                https://www.youtube.com/c/OpeninApp   \n",
       "1             1  https://www.youtube.com/channel/UCIGDcUqL2kKMd...   \n",
       "2             2          https://www.youtube.com/hashtag/openinapp   \n",
       "3             3        https://www.youtube.com/watch?v=vOo-VyPIiW0   \n",
       "4             4        https://www.youtube.com/watch?v=O6lup3SN4Bw   \n",
       "..          ...                                                ...   \n",
       "595         595  https://www.youtube.com/post/UgxxZbA3FKGy6JQbC...   \n",
       "596         596        https://www.youtube.com/watch?v=p-qw-sAMixc   \n",
       "597         597  https://www.youtube.com/post/UgkxLi6V7PM1vtjem...   \n",
       "598         598        https://www.youtube.com/watch?v=RsqG2wV2A8k   \n",
       "599         599        https://www.youtube.com/watch?v=Tlxwez5iVrc   \n",
       "\n",
       "                  Channel Name  \n",
       "0                    OpeninApp  \n",
       "1                    OpeninApp  \n",
       "2           Inspiring Prashant  \n",
       "3                     spksunny  \n",
       "4                    OpeninApp  \n",
       "..                         ...  \n",
       "595              Makholi Bande  \n",
       "596  Money Purse { మనీ పర్స్ }  \n",
       "597                        NaN  \n",
       "598  Money Purse { మనీ పర్స్ }  \n",
       "599           SimpleGhar Hindi  \n",
       "\n",
       "[600 rows x 3 columns]"
      ]
     },
     "execution_count": 229,
     "metadata": {},
     "output_type": "execute_result"
    }
   ],
   "source": [
    "youtube = pd.read_csv('Youtube_Channel_Names.csv')\n",
    "youtube"
   ]
  },
  {
   "cell_type": "markdown",
   "id": "c3a2e0ef",
   "metadata": {},
   "source": [
    "**- Save the results in JSON Format**"
   ]
  },
  {
   "cell_type": "code",
   "execution_count": 230,
   "id": "69583d9d",
   "metadata": {},
   "outputs": [],
   "source": [
    "youtube_channel.to_json('Youtube_Channel_Names_json.json')"
   ]
  },
  {
   "cell_type": "code",
   "execution_count": 232,
   "id": "c0273769",
   "metadata": {},
   "outputs": [
    {
     "data": {
      "text/html": [
       "<div>\n",
       "<style scoped>\n",
       "    .dataframe tbody tr th:only-of-type {\n",
       "        vertical-align: middle;\n",
       "    }\n",
       "\n",
       "    .dataframe tbody tr th {\n",
       "        vertical-align: top;\n",
       "    }\n",
       "\n",
       "    .dataframe thead th {\n",
       "        text-align: right;\n",
       "    }\n",
       "</style>\n",
       "<table border=\"1\" class=\"dataframe\">\n",
       "  <thead>\n",
       "    <tr style=\"text-align: right;\">\n",
       "      <th></th>\n",
       "      <th>Youtube Links</th>\n",
       "      <th>Channel Name</th>\n",
       "    </tr>\n",
       "  </thead>\n",
       "  <tbody>\n",
       "    <tr>\n",
       "      <th>0</th>\n",
       "      <td>https://www.youtube.com/c/OpeninApp</td>\n",
       "      <td>OpeninApp</td>\n",
       "    </tr>\n",
       "    <tr>\n",
       "      <th>1</th>\n",
       "      <td>https://www.youtube.com/channel/UCIGDcUqL2kKMd...</td>\n",
       "      <td>OpeninApp</td>\n",
       "    </tr>\n",
       "    <tr>\n",
       "      <th>2</th>\n",
       "      <td>https://www.youtube.com/hashtag/openinapp</td>\n",
       "      <td>Inspiring Prashant</td>\n",
       "    </tr>\n",
       "    <tr>\n",
       "      <th>3</th>\n",
       "      <td>https://www.youtube.com/watch?v=vOo-VyPIiW0</td>\n",
       "      <td>spksunny</td>\n",
       "    </tr>\n",
       "    <tr>\n",
       "      <th>4</th>\n",
       "      <td>https://www.youtube.com/watch?v=O6lup3SN4Bw</td>\n",
       "      <td>OpeninApp</td>\n",
       "    </tr>\n",
       "    <tr>\n",
       "      <th>...</th>\n",
       "      <td>...</td>\n",
       "      <td>...</td>\n",
       "    </tr>\n",
       "    <tr>\n",
       "      <th>595</th>\n",
       "      <td>https://www.youtube.com/post/UgxxZbA3FKGy6JQbC...</td>\n",
       "      <td>Makholi Bande</td>\n",
       "    </tr>\n",
       "    <tr>\n",
       "      <th>596</th>\n",
       "      <td>https://www.youtube.com/watch?v=p-qw-sAMixc</td>\n",
       "      <td>Money Purse { మనీ పర్స్ }</td>\n",
       "    </tr>\n",
       "    <tr>\n",
       "      <th>597</th>\n",
       "      <td>https://www.youtube.com/post/UgkxLi6V7PM1vtjem...</td>\n",
       "      <td></td>\n",
       "    </tr>\n",
       "    <tr>\n",
       "      <th>598</th>\n",
       "      <td>https://www.youtube.com/watch?v=RsqG2wV2A8k</td>\n",
       "      <td>Money Purse { మనీ పర్స్ }</td>\n",
       "    </tr>\n",
       "    <tr>\n",
       "      <th>599</th>\n",
       "      <td>https://www.youtube.com/watch?v=Tlxwez5iVrc</td>\n",
       "      <td>SimpleGhar Hindi</td>\n",
       "    </tr>\n",
       "  </tbody>\n",
       "</table>\n",
       "<p>600 rows × 2 columns</p>\n",
       "</div>"
      ],
      "text/plain": [
       "                                         Youtube Links  \\\n",
       "0                  https://www.youtube.com/c/OpeninApp   \n",
       "1    https://www.youtube.com/channel/UCIGDcUqL2kKMd...   \n",
       "2            https://www.youtube.com/hashtag/openinapp   \n",
       "3          https://www.youtube.com/watch?v=vOo-VyPIiW0   \n",
       "4          https://www.youtube.com/watch?v=O6lup3SN4Bw   \n",
       "..                                                 ...   \n",
       "595  https://www.youtube.com/post/UgxxZbA3FKGy6JQbC...   \n",
       "596        https://www.youtube.com/watch?v=p-qw-sAMixc   \n",
       "597  https://www.youtube.com/post/UgkxLi6V7PM1vtjem...   \n",
       "598        https://www.youtube.com/watch?v=RsqG2wV2A8k   \n",
       "599        https://www.youtube.com/watch?v=Tlxwez5iVrc   \n",
       "\n",
       "                  Channel Name  \n",
       "0                    OpeninApp  \n",
       "1                    OpeninApp  \n",
       "2           Inspiring Prashant  \n",
       "3                     spksunny  \n",
       "4                    OpeninApp  \n",
       "..                         ...  \n",
       "595              Makholi Bande  \n",
       "596  Money Purse { మనీ పర్స్ }  \n",
       "597                             \n",
       "598  Money Purse { మనీ పర్స్ }  \n",
       "599           SimpleGhar Hindi  \n",
       "\n",
       "[600 rows x 2 columns]"
      ]
     },
     "execution_count": 232,
     "metadata": {},
     "output_type": "execute_result"
    }
   ],
   "source": [
    "youtube_json = pd.read_json('Youtube_Channel_Names_json.json')\n",
    "youtube_json"
   ]
  }
 ],
 "metadata": {
  "kernelspec": {
   "display_name": "Python 3 (ipykernel)",
   "language": "python",
   "name": "python3"
  },
  "language_info": {
   "codemirror_mode": {
    "name": "ipython",
    "version": 3
   },
   "file_extension": ".py",
   "mimetype": "text/x-python",
   "name": "python",
   "nbconvert_exporter": "python",
   "pygments_lexer": "ipython3",
   "version": "3.9.7"
  }
 },
 "nbformat": 4,
 "nbformat_minor": 5
}
